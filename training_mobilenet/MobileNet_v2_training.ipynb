{
 "cells": [
  {
   "cell_type": "code",
   "execution_count": 0,
   "metadata": {
    "colab": {},
    "colab_type": "code",
    "id": "qSPSEdEW9qhS"
   },
   "outputs": [],
   "source": []
  },
  {
   "cell_type": "code",
   "execution_count": 0,
   "metadata": {
    "colab": {},
    "colab_type": "code",
    "id": "M5mWullfGEKU"
   },
   "outputs": [],
   "source": [
    "# Downloading libraries on the cloud machine\n",
    "!pip install tensorflow-gpu\n",
    "!pip install keras\n",
    "!pip install numpy\n",
    "!pip install scikit-learn"
   ]
  },
  {
   "cell_type": "code",
   "execution_count": 0,
   "metadata": {
    "colab": {},
    "colab_type": "code",
    "id": "Pp6_X-Ic9B4A"
   },
   "outputs": [],
   "source": [
    "# Loading the libraries\n",
    "import numpy as np\n",
    "import pickle\n",
    "import os\n",
    "import time\n",
    "\n",
    "import tensorflow as tf\n",
    "import keras\n",
    "from keras.models import Model, Sequential\n",
    "from keras.layers import Input, Conv2D, MaxPooling2D, MaxPool2D, Dropout, Flatten, Dense\n",
    "from keras.layers import Activation, BatchNormalization, GlobalAveragePooling2D, ReLU\n",
    "from keras.optimizers import Adam\n",
    "from keras.callbacks import EarlyStopping, ReduceLROnPlateau, ModelCheckpoint, TensorBoard\n",
    "from keras.preprocessing.image import ImageDataGenerator, load_img, img_to_array\n",
    "\n",
    "from matplotlib import pyplot as plt\n",
    "from sklearn.metrics import confusion_matrix\n",
    "%matplotlib inline"
   ]
  },
  {
   "cell_type": "code",
   "execution_count": 0,
   "metadata": {
    "colab": {},
    "colab_type": "code",
    "id": "R5qYi1e99kvg"
   },
   "outputs": [],
   "source": [
    "# Connection to Google Drive\n",
    "from google.colab import drive\n",
    "drive.mount('/content/gdrive')"
   ]
  },
  {
   "cell_type": "code",
   "execution_count": 0,
   "metadata": {
    "colab": {},
    "colab_type": "code",
    "id": "U6UCOfOiXyLw"
   },
   "outputs": [],
   "source": [
    "path_data = '/content/gdrive/My Drive/mobile_net_tipe/data_dark'"
   ]
  },
  {
   "cell_type": "code",
   "execution_count": 0,
   "metadata": {
    "colab": {},
    "colab_type": "code",
    "id": "gICuyUr9-0KR"
   },
   "outputs": [],
   "source": [
    "train_path = path_data + '/train'\n",
    "valid_path = path_data + '/valid'\n",
    "test_path = path_data + '/test'"
   ]
  },
  {
   "cell_type": "code",
   "execution_count": 0,
   "metadata": {
    "colab": {
     "base_uri": "https://localhost:8080/",
     "height": 68
    },
    "colab_type": "code",
    "executionInfo": {
     "elapsed": 1243,
     "status": "ok",
     "timestamp": 1557777206364,
     "user": {
      "displayName": "pierre-louis Guillou",
      "photoUrl": "",
      "userId": "05302594639662519246"
     },
     "user_tz": -120
    },
    "id": "8MvK-sPLhPFC",
    "outputId": "be5b06b4-4c4d-4138-8de4-e027063e3790"
   },
   "outputs": [
    {
     "name": "stdout",
     "output_type": "stream",
     "text": [
      "Found 16800 images belonging to 3 classes.\n",
      "Found 300 images belonging to 3 classes.\n",
      "Found 300 images belonging to 3 classes.\n"
     ]
    }
   ],
   "source": [
    "# Creating the data generators\n",
    "train_batches = ImageDataGenerator(preprocessing_function =\n",
    "                                   keras.applications.mobilenet_v2.preprocess_input)\n",
    "                    .flow_from_directory(train_path, target_size = (224, 224),\n",
    "                                         batch_size = 64, class_mode = 'sparse')\n",
    "  \n",
    "valid_batches = ImageDataGenerator(preprocessing_function =\n",
    "                                   keras.applications.mobilenet_v2.preprocess_input)\n",
    "                    .flow_from_directory(valid_path, target_size = (224, 224),\n",
    "                                         batch_size = 30, class_mode = 'sparse')\n",
    "  \n",
    "test_batches = ImageDataGenerator(preprocessing_function =\n",
    "                                  keras.applications.mobilenet_v2.preprocess_input)\n",
    "                    .flow_from_directory(test_path, target_size = (224, 224),\n",
    "                                         batch_size = 30, shuffle = False, class_mode = 'sparse')"
   ]
  },
  {
   "cell_type": "code",
   "execution_count": 0,
   "metadata": {
    "colab": {},
    "colab_type": "code",
    "id": "AfUN9h50S4I9"
   },
   "outputs": [],
   "source": [
    "# Loading th MobileNet graph\n",
    "mobile = keras.applications.mobilenet_v2.MobileNetV2()"
   ]
  },
  {
   "cell_type": "code",
   "execution_count": 0,
   "metadata": {
    "colab": {},
    "colab_type": "code",
    "id": "CDgNg_4ITDa9"
   },
   "outputs": [],
   "source": [
    "# Printing the representation of the MobileNet\n",
    "mobile.summary()"
   ]
  },
  {
   "cell_type": "code",
   "execution_count": 0,
   "metadata": {
    "colab": {},
    "colab_type": "code",
    "id": "2ClWNxWsbwu8"
   },
   "outputs": [],
   "source": [
    "# Creating our Deep Neural Network\n",
    "x = mobile.layers[36].output\n",
    "\n",
    "x = Conv2D(128, kernel_size = 7, strides = 2)(x)\n",
    "x = BatchNormalization()(x)\n",
    "x = Activation('relu')(x)\n",
    "x = GlobalAveragePooling2D()(x)\n",
    "\n",
    "x = Dense(32, activation = 'relu')(x)\n",
    "x = Dropout(0.4)(x)\n",
    "\n",
    "x = Dense(1)(x)\n",
    "output = ReLU(max_value = 2, name = 'output')(x)"
   ]
  },
  {
   "cell_type": "code",
   "execution_count": 0,
   "metadata": {
    "colab": {},
    "colab_type": "code",
    "id": "fFNwcIa1f5vW"
   },
   "outputs": [],
   "source": [
    "# Creating the model\n",
    "my_model = Model(inputs = mobile.input, outputs = output)"
   ]
  },
  {
   "cell_type": "code",
   "execution_count": 0,
   "metadata": {
    "colab": {
     "base_uri": "https://localhost:8080/",
     "height": 1683
    },
    "colab_type": "code",
    "executionInfo": {
     "elapsed": 1097,
     "status": "ok",
     "timestamp": 1557784230105,
     "user": {
      "displayName": "pierre-louis Guillou",
      "photoUrl": "",
      "userId": "05302594639662519246"
     },
     "user_tz": -120
    },
    "id": "sUf6Mfsocbkk",
    "outputId": "f265082f-0844-4a24-ebc8-41df36ded996"
   },
   "outputs": [
    {
     "name": "stdout",
     "output_type": "stream",
     "text": [
      "__________________________________________________________________________________________________\n",
      "Layer (type)                    Output Shape         Param #     Connected to                     \n",
      "==================================================================================================\n",
      "input_1 (InputLayer)            (None, 224, 224, 3)  0                                            \n",
      "__________________________________________________________________________________________________\n",
      "Conv1_pad (ZeroPadding2D)       (None, 225, 225, 3)  0           input_1[0][0]                    \n",
      "__________________________________________________________________________________________________\n",
      "Conv1 (Conv2D)                  (None, 112, 112, 32) 864         Conv1_pad[0][0]                  \n",
      "__________________________________________________________________________________________________\n",
      "bn_Conv1 (BatchNormalization)   (None, 112, 112, 32) 128         Conv1[0][0]                      \n",
      "__________________________________________________________________________________________________\n",
      "Conv1_relu (ReLU)               (None, 112, 112, 32) 0           bn_Conv1[0][0]                   \n",
      "__________________________________________________________________________________________________\n",
      "expanded_conv_depthwise (Depthw (None, 112, 112, 32) 288         Conv1_relu[0][0]                 \n",
      "__________________________________________________________________________________________________\n",
      "expanded_conv_depthwise_BN (Bat (None, 112, 112, 32) 128         expanded_conv_depthwise[0][0]    \n",
      "__________________________________________________________________________________________________\n",
      "expanded_conv_depthwise_relu (R (None, 112, 112, 32) 0           expanded_conv_depthwise_BN[0][0] \n",
      "__________________________________________________________________________________________________\n",
      "expanded_conv_project (Conv2D)  (None, 112, 112, 16) 512         expanded_conv_depthwise_relu[0][0\n",
      "__________________________________________________________________________________________________\n",
      "expanded_conv_project_BN (Batch (None, 112, 112, 16) 64          expanded_conv_project[0][0]      \n",
      "__________________________________________________________________________________________________\n",
      "block_1_expand (Conv2D)         (None, 112, 112, 96) 1536        expanded_conv_project_BN[0][0]   \n",
      "__________________________________________________________________________________________________\n",
      "block_1_expand_BN (BatchNormali (None, 112, 112, 96) 384         block_1_expand[0][0]             \n",
      "__________________________________________________________________________________________________\n",
      "block_1_expand_relu (ReLU)      (None, 112, 112, 96) 0           block_1_expand_BN[0][0]          \n",
      "__________________________________________________________________________________________________\n",
      "block_1_pad (ZeroPadding2D)     (None, 113, 113, 96) 0           block_1_expand_relu[0][0]        \n",
      "__________________________________________________________________________________________________\n",
      "block_1_depthwise (DepthwiseCon (None, 56, 56, 96)   864         block_1_pad[0][0]                \n",
      "__________________________________________________________________________________________________\n",
      "block_1_depthwise_BN (BatchNorm (None, 56, 56, 96)   384         block_1_depthwise[0][0]          \n",
      "__________________________________________________________________________________________________\n",
      "block_1_depthwise_relu (ReLU)   (None, 56, 56, 96)   0           block_1_depthwise_BN[0][0]       \n",
      "__________________________________________________________________________________________________\n",
      "block_1_project (Conv2D)        (None, 56, 56, 24)   2304        block_1_depthwise_relu[0][0]     \n",
      "__________________________________________________________________________________________________\n",
      "block_1_project_BN (BatchNormal (None, 56, 56, 24)   96          block_1_project[0][0]            \n",
      "__________________________________________________________________________________________________\n",
      "block_2_expand (Conv2D)         (None, 56, 56, 144)  3456        block_1_project_BN[0][0]         \n",
      "__________________________________________________________________________________________________\n",
      "block_2_expand_BN (BatchNormali (None, 56, 56, 144)  576         block_2_expand[0][0]             \n",
      "__________________________________________________________________________________________________\n",
      "block_2_expand_relu (ReLU)      (None, 56, 56, 144)  0           block_2_expand_BN[0][0]          \n",
      "__________________________________________________________________________________________________\n",
      "block_2_depthwise (DepthwiseCon (None, 56, 56, 144)  1296        block_2_expand_relu[0][0]        \n",
      "__________________________________________________________________________________________________\n",
      "block_2_depthwise_BN (BatchNorm (None, 56, 56, 144)  576         block_2_depthwise[0][0]          \n",
      "__________________________________________________________________________________________________\n",
      "block_2_depthwise_relu (ReLU)   (None, 56, 56, 144)  0           block_2_depthwise_BN[0][0]       \n",
      "__________________________________________________________________________________________________\n",
      "block_2_project (Conv2D)        (None, 56, 56, 24)   3456        block_2_depthwise_relu[0][0]     \n",
      "__________________________________________________________________________________________________\n",
      "block_2_project_BN (BatchNormal (None, 56, 56, 24)   96          block_2_project[0][0]            \n",
      "__________________________________________________________________________________________________\n",
      "block_2_add (Add)               (None, 56, 56, 24)   0           block_1_project_BN[0][0]         \n",
      "                                                                 block_2_project_BN[0][0]         \n",
      "__________________________________________________________________________________________________\n",
      "block_3_expand (Conv2D)         (None, 56, 56, 144)  3456        block_2_add[0][0]                \n",
      "__________________________________________________________________________________________________\n",
      "block_3_expand_BN (BatchNormali (None, 56, 56, 144)  576         block_3_expand[0][0]             \n",
      "__________________________________________________________________________________________________\n",
      "block_3_expand_relu (ReLU)      (None, 56, 56, 144)  0           block_3_expand_BN[0][0]          \n",
      "__________________________________________________________________________________________________\n",
      "block_3_pad (ZeroPadding2D)     (None, 57, 57, 144)  0           block_3_expand_relu[0][0]        \n",
      "__________________________________________________________________________________________________\n",
      "block_3_depthwise (DepthwiseCon (None, 28, 28, 144)  1296        block_3_pad[0][0]                \n",
      "__________________________________________________________________________________________________\n",
      "block_3_depthwise_BN (BatchNorm (None, 28, 28, 144)  576         block_3_depthwise[0][0]          \n",
      "__________________________________________________________________________________________________\n",
      "block_3_depthwise_relu (ReLU)   (None, 28, 28, 144)  0           block_3_depthwise_BN[0][0]       \n",
      "__________________________________________________________________________________________________\n",
      "block_3_project (Conv2D)        (None, 28, 28, 32)   4608        block_3_depthwise_relu[0][0]     \n",
      "__________________________________________________________________________________________________\n",
      "block_3_project_BN (BatchNormal (None, 28, 28, 32)   128         block_3_project[0][0]            \n",
      "__________________________________________________________________________________________________\n",
      "conv2d_8 (Conv2D)               (None, 11, 11, 128)  200832      block_3_project_BN[0][0]         \n",
      "__________________________________________________________________________________________________\n",
      "batch_normalization_8 (BatchNor (None, 11, 11, 128)  512         conv2d_8[0][0]                   \n",
      "__________________________________________________________________________________________________\n",
      "activation_8 (Activation)       (None, 11, 11, 128)  0           batch_normalization_8[0][0]      \n",
      "__________________________________________________________________________________________________\n",
      "global_average_pooling2d_9 (Glo (None, 128)          0           activation_8[0][0]               \n",
      "__________________________________________________________________________________________________\n",
      "dense_9 (Dense)                 (None, 32)           4128        global_average_pooling2d_9[0][0] \n",
      "__________________________________________________________________________________________________\n",
      "dropout_8 (Dropout)             (None, 32)           0           dense_9[0][0]                    \n",
      "__________________________________________________________________________________________________\n",
      "dense_10 (Dense)                (None, 1)            33          dropout_8[0][0]                  \n",
      "__________________________________________________________________________________________________\n",
      "output (ReLU)                   (None, 1)            0           dense_10[0][0]                   \n",
      "==================================================================================================\n",
      "Total params: 233,153\n",
      "Trainable params: 231,041\n",
      "Non-trainable params: 2,112\n",
      "__________________________________________________________________________________________________\n"
     ]
    }
   ],
   "source": [
    "# Printing the representation of our model\n",
    "my_model.summary()"
   ]
  },
  {
   "cell_type": "code",
   "execution_count": 0,
   "metadata": {
    "colab": {},
    "colab_type": "code",
    "id": "RyNtnRJnYuev"
   },
   "outputs": [],
   "source": [
    "# Compiling the model\n",
    "opt = Adam(lr = 0.0001)\n",
    "\n",
    "my_model.compile(loss = 'mae', optimizer = opt, metrics = ['accuracy'])"
   ]
  },
  {
   "cell_type": "code",
   "execution_count": 0,
   "metadata": {
    "colab": {},
    "colab_type": "code",
    "id": "bXrTR5khlEXf"
   },
   "outputs": [],
   "source": [
    "# Creating saving path\n",
    "filepath_models = '/content/gdrive/My Drive/mobile_net_tipe/models'\n",
    "\n",
    "model_name = 'model_final_3dir_relu2'\n",
    "\n",
    "filepath_model = filepath_models + '/' + model_name + '.hdf5'\n",
    "\n",
    "# If it is not learning a lot during a moment we reduce the learning rate\n",
    "reduce_lr = ReduceLROnPlateau(monitor='val_loss', factor = 0.6, patience = 2, min_lr=0.00001)\n",
    "\n",
    "# Keeping only the weights that generalize the best\n",
    "checkpoint = ModelCheckpoint(filepath_model, monitor='val_loss', save_best_only = True)\n",
    "\n",
    "# If we see no improvement we stop the training process\n",
    "early = EarlyStopping(monitor='val_loss', patience = 3, restore_best_weights = True)\n",
    "\n",
    "# Saving the evolution of the loss the accuracy and others...\n",
    "tb = TensorBoard(log_dir = '/content/gdrive/My Drive/mobile_net_tipe/logs' + '/' + model_name, write_graph = True, write_images = True)\n",
    "\n",
    "callbacks_list = [reduce_lr, checkpoint, early, tb]"
   ]
  },
  {
   "cell_type": "code",
   "execution_count": 0,
   "metadata": {
    "colab": {
     "base_uri": "https://localhost:8080/",
     "height": 153
    },
    "colab_type": "code",
    "executionInfo": {
     "elapsed": 212579,
     "status": "ok",
     "timestamp": 1557784627872,
     "user": {
      "displayName": "pierre-louis Guillou",
      "photoUrl": "",
      "userId": "05302594639662519246"
     },
     "user_tz": -120
    },
    "id": "nRo9nCeemkWa",
    "outputId": "7a424132-f7b8-4211-e2f8-ab9fd891d2c4"
   },
   "outputs": [
    {
     "name": "stdout",
     "output_type": "stream",
     "text": [
      "Epoch 1/4\n",
      "256/256 [==============================] - 93s 364ms/step - loss: 0.0907 - acc: 0.9619 - val_loss: 0.0162 - val_acc: 1.0000\n",
      "Epoch 2/4\n",
      "256/256 [==============================] - 90s 350ms/step - loss: 0.0696 - acc: 0.9835 - val_loss: 0.1281 - val_acc: 1.0000\n",
      "Epoch 3/4\n",
      "256/256 [==============================] - 90s 350ms/step - loss: 0.0640 - acc: 0.9900 - val_loss: 0.1432 - val_acc: 1.0000\n",
      "Epoch 4/4\n",
      "256/256 [==============================] - 90s 350ms/step - loss: 0.0605 - acc: 0.9904 - val_loss: 0.1052 - val_acc: 1.0000\n"
     ]
    }
   ],
   "source": [
    "# Training\n",
    "history = my_model.fit_generator(train_batches, steps_per_epoch = 256,\n",
    "                                 validation_data = valid_batches,validation_steps = 10, epochs = 4, verbose = 1, callbacks = callbacks_list)"
   ]
  },
  {
   "cell_type": "code",
   "execution_count": 0,
   "metadata": {
    "colab": {
     "base_uri": "https://localhost:8080/",
     "height": 34
    },
    "colab_type": "code",
    "executionInfo": {
     "elapsed": 1736,
     "status": "ok",
     "timestamp": 1557784699581,
     "user": {
      "displayName": "pierre-louis Guillou",
      "photoUrl": "",
      "userId": "05302594639662519246"
     },
     "user_tz": -120
    },
    "id": "mIUroiYyM5Y6",
    "outputId": "27f9601b-a110-4d99-9d0c-d8ec55c10c13"
   },
   "outputs": [
    {
     "name": "stdout",
     "output_type": "stream",
     "text": [
      "10/10 [==============================] - 1s 116ms/step\n"
     ]
    }
   ],
   "source": [
    "# Predictions on the test set\n",
    "predictions = my_model.evaluate_generator(test_batches, steps = 10, verbose = 1)"
   ]
  },
  {
   "cell_type": "code",
   "execution_count": 0,
   "metadata": {
    "colab": {
     "base_uri": "https://localhost:8080/",
     "height": 34
    },
    "colab_type": "code",
    "executionInfo": {
     "elapsed": 600,
     "status": "ok",
     "timestamp": 1557784718978,
     "user": {
      "displayName": "pierre-louis Guillou",
      "photoUrl": "",
      "userId": "05302594639662519246"
     },
     "user_tz": -120
    },
    "id": "KaHMIKm_lIuf",
    "outputId": "40c788b8-ec5d-4dce-8fe4-ac41e3708800"
   },
   "outputs": [
    {
     "name": "stdout",
     "output_type": "stream",
     "text": [
      "[0.019887891970574854, 1.0]\n"
     ]
    }
   ],
   "source": [
    "# The result : [loss, accuracy]\n",
    "print(predictions)"
   ]
  }
 ],
 "metadata": {
  "accelerator": "GPU",
  "colab": {
   "collapsed_sections": [],
   "name": "comm_MobileNet_v2_training.ipynb",
   "provenance": [],
   "version": "0.3.2"
  },
  "kernelspec": {
   "display_name": "Python 3",
   "language": "python",
   "name": "python3"
  },
  "language_info": {
   "codemirror_mode": {
    "name": "ipython",
    "version": 3
   },
   "file_extension": ".py",
   "mimetype": "text/x-python",
   "name": "python",
   "nbconvert_exporter": "python",
   "pygments_lexer": "ipython3",
   "version": "3.6.6"
  }
 },
 "nbformat": 4,
 "nbformat_minor": 1
}
